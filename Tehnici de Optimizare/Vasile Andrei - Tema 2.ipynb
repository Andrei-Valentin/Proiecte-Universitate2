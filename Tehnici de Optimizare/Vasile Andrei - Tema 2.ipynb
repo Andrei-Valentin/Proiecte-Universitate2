{
  "nbformat": 4,
  "nbformat_minor": 0,
  "metadata": {
    "colab": {
      "name": "Vasile Andrei - Tema 2.ipynb",
      "provenance": [],
      "collapsed_sections": []
    },
    "kernelspec": {
      "name": "python3",
      "display_name": "Python 3"
    },
    "language_info": {
      "name": "python"
    }
  },
  "cells": [
    {
      "cell_type": "code",
      "metadata": {
        "id": "mGDAHYY6QY4T"
      },
      "source": [
        "import cv2\n",
        "import cv2\n",
        "from google.colab.patches import cv2_imshow\n",
        "import numpy as np\n",
        "from numpy import dot\n",
        "from numpy import linalg as la\n",
        "from numpy.linalg import norm\n",
        "import matplotlib\n",
        "from matplotlib import pyplot as plt\n",
        "from collections import Counter\n",
        "import time\n",
        "import random\n",
        "\n",
        "from sklearn.decomposition import TruncatedSVD"
      ],
      "execution_count": null,
      "outputs": []
    },
    {
      "cell_type": "code",
      "source": [
        "from google.colab import drive\n",
        "drive.mount('/content/drive')"
      ],
      "metadata": {
        "id": "voChApBZkMFt",
        "colab": {
          "base_uri": "https://localhost:8080/"
        },
        "outputId": "2a570197-28e4-4a5b-d822-1fefdaf320ca"
      },
      "execution_count": null,
      "outputs": [
        {
          "output_type": "stream",
          "name": "stdout",
          "text": [
            "Drive already mounted at /content/drive; to attempt to forcibly remount, call drive.mount(\"/content/drive\", force_remount=True).\n"
          ]
        }
      ]
    },
    {
      "cell_type": "code",
      "metadata": {
        "id": "TZ7JB2Q9V1sf"
      },
      "source": [
        "#Crearea matricei de antrenare\n",
        "A = np.zeros([10304,320])\n",
        "index = 0\n",
        "pathSursa=\"/content/drive/MyDrive/Proiecte\"\n",
        "\n",
        "for i in range(1,41):\n",
        "  pathPersoane = pathSursa +\"/s\" + str(i) + \"/\"\n",
        "  for j in range(1,9):\n",
        "    pathPozaAntrenare = pathPersoane + str(j) + '.pgm'\n",
        "    # citim poza ca matrice 112 x 92:\n",
        "    pozaAntrenare = np.array(cv2.imread(pathPozaAntrenare,0))\n",
        "    # vectorizam poza:\n",
        "    pozaVect = pozaAntrenare.reshape(10304,)\n",
        "    A[:,index] = pozaVect\n",
        "    index=index+1"
      ],
      "execution_count": null,
      "outputs": []
    },
    {
      "cell_type": "code",
      "metadata": {
        "id": "3gFh0qg_VPSf"
      },
      "source": [
        "#Algoritmul NN\n",
        "\n",
        "def AlgoritmulNN(A, pozaCautata, norma):\n",
        "  distante = np.zeros(len(A[0]))\n",
        "\n",
        "  if(norma == \"L1\"):\n",
        "    for i in range(0,len(distante)):\n",
        "      distante[i] = np.linalg.norm((A[:,i]-pozaCautata), ord=1)\n",
        "\n",
        "  elif(norma == \"L2\"):\n",
        "    for i in range(0,len(distante)):\n",
        "      distante[i] = la.norm(A[:,i]-pozaCautata)\n",
        "\n",
        "  elif(norma == \"LINF\"):\n",
        "    for i in range(0,len(distante)):\n",
        "      distante[i] = np.linalg.norm((A[:,i]-pozaCautata), ord=np.inf)\n",
        "\n",
        "  elif(norma == \"LCOS\"):\n",
        "    for i in range(0,len(distante)):\n",
        "      distante[i] = 1 - np.inner(A[:,i], pozaCautata)/(norm(A[:,i])*norm(pozaCautata))\n",
        "\n",
        "  else:\n",
        "    print(\"Nume norma incorect. Incercati L1, L2, LINF sau LCOS\")\n",
        "    return -1\n",
        "    \n",
        "\n",
        "  pozitia = np.argmin(distante) # returneaza indicele la care se afla cea mai mica distanta\n",
        "  \n",
        "  return pozitia # pozitia la care se afla imaginea gasita"
      ],
      "execution_count": null,
      "outputs": []
    },
    {
      "cell_type": "markdown",
      "metadata": {
        "id": "sSbcZisBUk3F"
      },
      "source": [
        "# **Algoritmul Eigenfaces**"
      ]
    },
    {
      "cell_type": "code",
      "metadata": {
        "id": "D7qi29eNUiDb"
      },
      "source": [
        "def Eigenfaces(A, pozaCautata, k):\n",
        "  #Preprocesare\n",
        "  media = np.mean(A, axis = 1) \n",
        "  #B = A # backup\n",
        "\n",
        "  A = (A.T - media).T\n",
        "\n",
        "  L = np.dot(A.T, A)\n",
        "\n",
        "  d, v = np.linalg.eig(L)\n",
        "\n",
        "  v = np.dot(A, v)\n",
        "\n",
        "\n",
        "  indici = np.argsort(d) \n",
        "\n",
        "  top_k_indici = indici[::-1][:k]\n",
        "\n",
        "  HQPB = v[:,top_k_indici]\n",
        "\n",
        "\n",
        "  proiectii = np.dot(A.T, HQPB)"
      ],
      "execution_count": null,
      "outputs": []
    },
    {
      "cell_type": "code",
      "source": [
        "def EigenfacesTSVD(A, pozaCautata, k):\n",
        "  #Preprocesare\n",
        "  media = np.mean(A, axis = 1) \n",
        "\n",
        "  A = (A.T - media).T\n",
        "\n",
        "  \n",
        "  svd = TruncatedSVD(k) #k E{20,...,100}\n",
        "  A_transf = svd.fit_transform(A.T)\n",
        "  s = svd.singular_values_\n",
        "\n",
        "  U = A_transf/s\n",
        "  E = U*A_transf\n",
        "\n",
        "  A_transf = U*E\n",
        "  \n",
        "\n",
        "  S = np.diag(s)\n",
        "  VT = svd.components_"
      ],
      "metadata": {
        "id": "tux_QdJ31Ubm"
      },
      "execution_count": null,
      "outputs": []
    },
    {
      "cell_type": "code",
      "source": [
        "#Afisarea rezultatului \n",
        "pozaCautata = (np.array(cv2.imread('/content/drive/MyDrive/Proiecte/s5/9.pgm',0))).reshape(10304,)\n",
        "pozaCopie = pozaCautata\n",
        "\n",
        "E = [20,40,60,80,100]\n",
        "\n",
        "for k in E:\n",
        "  print(\"Pentru k =\", k)\n",
        "\n",
        "  timp_start = time.perf_counter()\n",
        "\n",
        "  rezultat_EIG = Eigenfaces(A, pozaCautata , k)\n",
        "\n",
        "  timp_fin = time.perf_counter()\n",
        "  timp_cautare = timp_fin - timp_start\n",
        "  print(\"Folosind eig:\", timp_cautare)\n",
        "\n",
        "\n",
        "\n",
        "  timp_start = time.perf_counter()\n",
        "\n",
        "  rezultat_SVD = EigenfacesTSVD(A, pozaCautata , k)\n",
        "\n",
        "  timp_fin = time.perf_counter()\n",
        "  timp_cautare = timp_fin - timp_start\n",
        "  print(\"Folosind svd:\", timp_cautare)\n",
        "\n",
        "  print()\n"
      ],
      "metadata": {
        "colab": {
          "base_uri": "https://localhost:8080/"
        },
        "id": "4Ta5B59c_35M",
        "outputId": "2256b085-ff7c-4aa9-b4ce-750858cf7bdc"
      },
      "execution_count": null,
      "outputs": [
        {
          "output_type": "stream",
          "name": "stdout",
          "text": [
            "Pentru k = 20\n",
            "Folosind eig: 0.28273667200028285\n",
            "Folosind svd: 0.4835763169994607\n",
            "\n",
            "Pentru k = 40\n",
            "Folosind eig: 0.2746028869996735\n",
            "Folosind svd: 0.6113768819996039\n",
            "\n",
            "Pentru k = 60\n",
            "Folosind eig: 0.27519946899974457\n",
            "Folosind svd: 0.8051794220000374\n",
            "\n",
            "Pentru k = 80\n",
            "Folosind eig: 0.2985631599995031\n",
            "Folosind svd: 1.0183248590001313\n",
            "\n",
            "Pentru k = 100\n",
            "Folosind eig: 0.2723861479998959\n",
            "Folosind svd: 1.138669416999619\n",
            "\n"
          ]
        }
      ]
    }
  ]
}
